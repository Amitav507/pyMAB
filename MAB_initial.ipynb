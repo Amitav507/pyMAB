{
 "cells": [
  {
   "cell_type": "code",
   "execution_count": 19,
   "metadata": {},
   "outputs": [],
   "source": [
    "import numpy as np\n",
    "import matplotlib.pyplot as plt\n",
    "import pandas as pd"
   ]
  },
  {
   "cell_type": "markdown",
   "metadata": {},
   "source": [
    "Comparison between random selection of Advertisements and using a MAB agent using Upper Confidence Band policy\n"
   ]
  },
  {
   "cell_type": "code",
   "execution_count": 20,
   "metadata": {},
   "outputs": [],
   "source": [
    "dataset = pd.read_csv('Ads_Optimisation.csv')"
   ]
  },
  {
   "cell_type": "code",
   "execution_count": 21,
   "metadata": {},
   "outputs": [],
   "source": [
    "tot=[]"
   ]
  },
  {
   "cell_type": "code",
   "execution_count": 22,
   "metadata": {},
   "outputs": [],
   "source": [
    "import random\n",
    "N = 10000\n",
    "d = 10\n"
   ]
  },
  {
   "cell_type": "code",
   "execution_count": 23,
   "metadata": {},
   "outputs": [],
   "source": [
    "#code for random ad selection\n",
    "for c in range(0,100):\n",
    "    ads_selected = []\n",
    "    total_reward = 0\n",
    "    for n in range(0, N):\n",
    "        ad = random.randrange(d)\n",
    "        ads_selected.append(ad)\n",
    "        reward = dataset.values[n, ad]\n",
    "        total_reward = total_reward + reward\n",
    "    tot.append(total_reward)    \n"
   ]
  },
  {
   "cell_type": "code",
   "execution_count": 24,
   "metadata": {},
   "outputs": [],
   "source": [
    "tot.sort(reverse=True)"
   ]
  },
  {
   "cell_type": "code",
   "execution_count": 25,
   "metadata": {
    "scrolled": true
   },
   "outputs": [
    {
     "data": {
      "text/plain": [
       "[1299,\n",
       " 1294,\n",
       " 1294,\n",
       " 1293,\n",
       " 1292,\n",
       " 1289,\n",
       " 1285,\n",
       " 1285,\n",
       " 1285,\n",
       " 1285,\n",
       " 1283,\n",
       " 1281,\n",
       " 1280,\n",
       " 1278,\n",
       " 1274,\n",
       " 1272,\n",
       " 1270,\n",
       " 1267,\n",
       " 1266,\n",
       " 1263,\n",
       " 1263,\n",
       " 1261,\n",
       " 1260,\n",
       " 1257,\n",
       " 1257,\n",
       " 1256,\n",
       " 1256,\n",
       " 1256,\n",
       " 1256,\n",
       " 1255,\n",
       " 1254,\n",
       " 1254,\n",
       " 1254,\n",
       " 1254,\n",
       " 1253,\n",
       " 1253,\n",
       " 1252,\n",
       " 1252,\n",
       " 1252,\n",
       " 1251,\n",
       " 1250,\n",
       " 1247,\n",
       " 1245,\n",
       " 1243,\n",
       " 1243,\n",
       " 1242,\n",
       " 1242,\n",
       " 1242,\n",
       " 1241,\n",
       " 1240,\n",
       " 1240,\n",
       " 1239,\n",
       " 1239,\n",
       " 1239,\n",
       " 1238,\n",
       " 1237,\n",
       " 1237,\n",
       " 1237,\n",
       " 1237,\n",
       " 1236,\n",
       " 1236,\n",
       " 1234,\n",
       " 1233,\n",
       " 1231,\n",
       " 1231,\n",
       " 1231,\n",
       " 1230,\n",
       " 1230,\n",
       " 1229,\n",
       " 1226,\n",
       " 1225,\n",
       " 1224,\n",
       " 1224,\n",
       " 1223,\n",
       " 1222,\n",
       " 1221,\n",
       " 1221,\n",
       " 1219,\n",
       " 1218,\n",
       " 1218,\n",
       " 1215,\n",
       " 1210,\n",
       " 1210,\n",
       " 1209,\n",
       " 1207,\n",
       " 1204,\n",
       " 1204,\n",
       " 1203,\n",
       " 1203,\n",
       " 1200,\n",
       " 1196,\n",
       " 1189,\n",
       " 1186,\n",
       " 1185,\n",
       " 1182,\n",
       " 1181,\n",
       " 1175,\n",
       " 1172,\n",
       " 1170,\n",
       " 1146]"
      ]
     },
     "execution_count": 25,
     "metadata": {},
     "output_type": "execute_result"
    }
   ],
   "source": [
    "tot    #listing out result of random selection over 100 iterations"
   ]
  },
  {
   "cell_type": "code",
   "execution_count": 26,
   "metadata": {},
   "outputs": [],
   "source": [
    "#code for MAB\n",
    "import math\n",
    "N = 10000\n",
    "d = 10\n",
    "ads_selected = []\n",
    "numbers_of_selections = [0] * d\n",
    "sums_of_reward = [0] * d\n",
    "total_reward = 0"
   ]
  },
  {
   "cell_type": "code",
   "execution_count": 27,
   "metadata": {},
   "outputs": [],
   "source": [
    "for n in range(0, N):\n",
    "    ad = 0\n",
    "    max_upper_bound = 0\n",
    "    for i in range(0, d):\n",
    "        if (numbers_of_selections[i] > 0):\n",
    "            average_reward = sums_of_reward[i] / numbers_of_selections[i]\n",
    "            delta_i = math.sqrt(2 * math.log(n+1) / numbers_of_selections[i])\n",
    "            upper_bound = average_reward + delta_i\n",
    "        else:\n",
    "            upper_bound = 1e400\n",
    "        if upper_bound > max_upper_bound:\n",
    "            max_upper_bound = upper_bound\n",
    "            ad = i\n",
    "    ads_selected.append(ad)\n",
    "    numbers_of_selections[ad] += 1\n",
    "    reward = dataset.values[n, ad]\n",
    "    sums_of_reward[ad] += reward\n",
    "    total_reward += reward"
   ]
  },
  {
   "cell_type": "code",
   "execution_count": 28,
   "metadata": {},
   "outputs": [
    {
     "data": {
      "text/plain": [
       "2125"
      ]
     },
     "execution_count": 28,
     "metadata": {},
     "output_type": "execute_result"
    }
   ],
   "source": [
    "total_reward #MAB policy gives better profit consistently than random selection"
   ]
  },
  {
   "cell_type": "code",
   "execution_count": null,
   "metadata": {},
   "outputs": [],
   "source": []
  },
  {
   "cell_type": "code",
   "execution_count": null,
   "metadata": {},
   "outputs": [],
   "source": []
  }
 ],
 "metadata": {
  "kernelspec": {
   "display_name": "Python 3",
   "language": "python",
   "name": "python3"
  },
  "language_info": {
   "codemirror_mode": {
    "name": "ipython",
    "version": 3
   },
   "file_extension": ".py",
   "mimetype": "text/x-python",
   "name": "python",
   "nbconvert_exporter": "python",
   "pygments_lexer": "ipython3",
   "version": "3.7.0"
  }
 },
 "nbformat": 4,
 "nbformat_minor": 2
}
